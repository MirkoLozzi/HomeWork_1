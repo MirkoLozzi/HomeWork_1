{
 "cells": [
  {
   "cell_type": "markdown",
   "metadata": {},
   "source": [
    "## Say \"Hello, World!\" With Python"
   ]
  },
  {
   "cell_type": "code",
   "execution_count": null,
   "metadata": {},
   "outputs": [],
   "source": [
    "print(\"Hello, World!\")\n"
   ]
  },
  {
   "cell_type": "markdown",
   "metadata": {},
   "source": [
    "## Python If-Else\n"
   ]
  },
  {
   "cell_type": "code",
   "execution_count": null,
   "metadata": {},
   "outputs": [],
   "source": [
    "n = int(input(\"\"))\n",
    "\n",
    "if n % 2 != 0 or 6 <= n <= 20:\n",
    "    print(\"Weird\")\n",
    "else:\n",
    "    print(\"Not Weird\")"
   ]
  },
  {
   "cell_type": "markdown",
   "metadata": {},
   "source": [
    "## Arithmetic Operators\n"
   ]
  },
  {
   "cell_type": "code",
   "execution_count": null,
   "metadata": {},
   "outputs": [],
   "source": [
    "a = int(input())\n",
    "b = int(input())\n",
    "\n",
    "print(a+b)\n",
    "print(a-b)\n",
    "print(a*b)"
   ]
  },
  {
   "cell_type": "markdown",
   "metadata": {},
   "source": [
    "## Python: Division"
   ]
  },
  {
   "cell_type": "code",
   "execution_count": null,
   "metadata": {},
   "outputs": [],
   "source": [
    "a = int(input())\n",
    "b = int(input())\n",
    "\n",
    "print(a // b)\n",
    "print(a / b)\n"
   ]
  },
  {
   "cell_type": "markdown",
   "metadata": {},
   "source": [
    "## Loops"
   ]
  },
  {
   "cell_type": "code",
   "execution_count": null,
   "metadata": {},
   "outputs": [],
   "source": [
    "n = int(input())\n",
    "\n",
    "for i in range (0,n):\n",
    "    print(i*i)\n"
   ]
  },
  {
   "cell_type": "markdown",
   "metadata": {},
   "source": [
    "## Write a function"
   ]
  },
  {
   "cell_type": "code",
   "execution_count": null,
   "metadata": {},
   "outputs": [],
   "source": [
    "def is_leap(year):\n",
    "    leap = False\n",
    "    \n",
    "    if year % 4 == 0:             \n",
    "        leap = True\n",
    "        if year % 100 == 0:\n",
    "            leap = False\n",
    "            if year % 400 == 0:\n",
    "                leap = True\n",
    "    \n",
    "    return leap\n",
    "\n",
    "year = int(input())\n",
    "print(is_leap(year))"
   ]
  },
  {
   "cell_type": "markdown",
   "metadata": {},
   "source": [
    "## Print Function"
   ]
  },
  {
   "cell_type": "code",
   "execution_count": null,
   "metadata": {},
   "outputs": [],
   "source": [
    "n = int(input())\n",
    "\n",
    "for i in range(1, n + 1):\n",
    "    print(i, end =\"\")"
   ]
  },
  {
   "cell_type": "markdown",
   "metadata": {},
   "source": [
    "## List Comprehensions"
   ]
  },
  {
   "cell_type": "code",
   "execution_count": null,
   "metadata": {},
   "outputs": [],
   "source": [
    "x = int(input())\n",
    "y = int(input())\n",
    "z = int(input())\n",
    "n = int(input())\n",
    "\n",
    "ar = []\n",
    "\n",
    "for i in range(0, x + 1):           # three cycles to scroll the indexes from 0 to the input values\n",
    "    for j in range(0, y + 1):\n",
    "        for k in range(0, z + 1):\n",
    "            if i+j+k != n:          # selection rule\n",
    "                ar.append([i, j, k])\n",
    "                \n",
    "print(ar)"
   ]
  },
  {
   "cell_type": "markdown",
   "metadata": {},
   "source": [
    "## Find the Runner-Up Score!"
   ]
  },
  {
   "cell_type": "code",
   "execution_count": null,
   "metadata": {},
   "outputs": [],
   "source": [
    "n = int(input())\n",
    "arr = map(int, input().split())\n",
    "\n",
    "my_set = set(arr)                # eliminate the doubles\n",
    "my_list = sorted(list(my_set))   # organize the element of the list\n",
    "\n",
    "print(my_list[-2])               # the runner up score is the second to last element of the list\n"
   ]
  },
  {
   "cell_type": "markdown",
   "metadata": {},
   "source": [
    "## Nested Lists"
   ]
  },
  {
   "cell_type": "code",
   "execution_count": null,
   "metadata": {},
   "outputs": [],
   "source": [
    "if __name__ == '__main__':\n",
    "    List = []\n",
    "    scores = []\n",
    "    n = int(input())\n",
    "    \n",
    "    for i in range(n):\n",
    "        name = input()\n",
    "        score = float(input())\n",
    "        List.append([name, score])  # stored the neme of the studet with his/her score\n",
    "        scores.append(score)        # stored ONLY the student score\n",
    "        \n",
    "    List.sort()                         # sort the couple name-score in alphabetic order\n",
    "    scores = sorted(list(set(scores)))  # eliminate the doubles scores and sort it increasing order\n",
    "    for i in range(n):\n",
    "        if List[i][1] == scores[1]:     # if the students have the the second lowest grade, print his/her name\n",
    "            print(List[i][0])\n"
   ]
  },
  {
   "cell_type": "markdown",
   "metadata": {},
   "source": [
    "## Finding the percentage"
   ]
  },
  {
   "cell_type": "code",
   "execution_count": null,
   "metadata": {},
   "outputs": [],
   "source": [
    "if __name__ == '__main__':\n",
    "    n = int(input())\n",
    "    student_marks = {}   # dictionary to store the name of student associated to a list of three items\n",
    "    \n",
    "    for _ in range(n):                  \n",
    "        name, *line = input().split()\n",
    "        scores = list(map(float, line))  # take the score\n",
    "        student_marks[name] = scores     # fill the dictionary\n",
    "    query_name = input()                 #asking the name of the student to evaluete\n",
    "x = 0\n",
    "for i in range(3):                       # computes the everage of the marks \n",
    "    x += student_marks[query_name][i]/3\n",
    "print(\"%.2f\" %x)                         # print the everege whit two decimals"
   ]
  },
  {
   "cell_type": "markdown",
   "metadata": {},
   "source": [
    "## Lists"
   ]
  },
  {
   "cell_type": "code",
   "execution_count": null,
   "metadata": {},
   "outputs": [],
   "source": [
    "N = int(input())\n",
    "List = []\n",
    "\n",
    "for i in range(N):\n",
    "    line =input().split()     \n",
    "\n",
    "    if line[0] == 'insert':\n",
    "        List.insert(int(line[1]),int(line[2]))\n",
    "    elif line[0] == 'print':\n",
    "        print(List)\n",
    "    elif line[0] == 'remove':\n",
    "        List.remove(int(line[1]))\n",
    "    elif line[0] == 'sort':\n",
    "        List.sort()\n",
    "    elif line[0] == 'append':\n",
    "        List.append(int(line[1]))\n",
    "    elif line[0] == 'pop':\n",
    "        List.pop()\n",
    "    elif line[0] == 'reverse':\n",
    "        List.reverse()"
   ]
  },
  {
   "cell_type": "markdown",
   "metadata": {},
   "source": [
    "## sWAP cASE"
   ]
  },
  {
   "cell_type": "code",
   "execution_count": null,
   "metadata": {},
   "outputs": [],
   "source": [
    "def swap_case(s):\n",
    "    return s.swapcase() # swape case the element of the string\n",
    "\n",
    "if __name__ == '__main__':\n",
    "    s = input()\n",
    "    result = swap_case(s)  \n",
    "    print(result)"
   ]
  },
  {
   "cell_type": "markdown",
   "metadata": {},
   "source": [
    "## String Split and Join"
   ]
  },
  {
   "cell_type": "code",
   "execution_count": null,
   "metadata": {},
   "outputs": [],
   "source": [
    "def split_and_join(line):\n",
    "    line = line.split()     # split the sting every space and return a list\n",
    "    return  '-'.join(line)  # join every element of the list with thw character '-'\n",
    "\n",
    "if __name__ == '__main__':\n",
    "    line = input()\n",
    "    result = split_and_join(line)\n",
    "    print(result)"
   ]
  },
  {
   "cell_type": "markdown",
   "metadata": {},
   "source": [
    "## What's Your Name?"
   ]
  },
  {
   "cell_type": "code",
   "execution_count": null,
   "metadata": {},
   "outputs": [],
   "source": [
    "def print_full_name(a, b):\n",
    "    print(\"Hello \", a, \" \", b,\"! You just delved into python.\", sep = \"\")\n",
    "\n",
    "if __name__ == '__main__':\n",
    "    first_name = input()\n",
    "    last_name = input()\n",
    "    print_full_name(first_name, last_name)"
   ]
  },
  {
   "cell_type": "markdown",
   "metadata": {},
   "source": [
    "## Mutation"
   ]
  },
  {
   "cell_type": "code",
   "execution_count": null,
   "metadata": {},
   "outputs": [],
   "source": [
    "def mutate_string(string, position, character):                  #chang character to a string and return the string \n",
    "    return string[:position] + character + string[position+1:] \n",
    "\n",
    "if __name__ == '__main__':\n",
    "    s = input()\n",
    "    i, c = input().split()\n",
    "    s_new = mutate_string(s, int(i), c)\n",
    "    print(s_new)"
   ]
  },
  {
   "cell_type": "markdown",
   "metadata": {},
   "source": [
    "## Find a string"
   ]
  },
  {
   "cell_type": "code",
   "execution_count": null,
   "metadata": {},
   "outputs": [],
   "source": [
    "def count_substring(string, sub_string):\n",
    "    count = 0\n",
    "    for i in range(1+len(string)-len(sub_string)):     # scroll the string in serch of the sub_string\n",
    "        if string[i:i+len(sub_string)] == sub_string:  \n",
    "            count += 1\n",
    "    return count\n",
    "\n",
    "if __name__ == '__main__':\n",
    "    string = input().strip()\n",
    "    sub_string = input().strip()\n",
    "    \n",
    "    count = count_substring(string, sub_string)\n",
    "    print(count)"
   ]
  },
  {
   "cell_type": "markdown",
   "metadata": {},
   "source": [
    "## String Validators"
   ]
  },
  {
   "cell_type": "code",
   "execution_count": null,
   "metadata": {},
   "outputs": [],
   "source": [
    "if __name__ == '__main__':\n",
    "    string = input()\n",
    "\n",
    "    print(any(map(str.isalnum,string))) # map aplly the function to everi elementi of the string and return a list \n",
    "    print(any(map(str.isalpha,string))) # of TRUE and FALSE. if there's at least 1 TRUE the function any() return TRUE, \n",
    "    print(any(map(str.isdigit,string))) # else terurn FALSE\n",
    "    print(any(map(str.islower,string)))\n",
    "    print(any(map(str.isupper,string)))"
   ]
  },
  {
   "cell_type": "markdown",
   "metadata": {},
   "source": [
    "## Text Alignment"
   ]
  },
  {
   "cell_type": "code",
   "execution_count": null,
   "metadata": {},
   "outputs": [],
   "source": [
    "thickness = int(input()) #This must be an odd number\n",
    "c = 'H'\n",
    "\n",
    "#Top Cone\n",
    "for i in range(thickness):\n",
    "    print((c*i).rjust(thickness-1)+c+(c*i).ljust(thickness-1))\n",
    "\n",
    "#Top Pillars\n",
    "for i in range(thickness+1):\n",
    "    print((c*thickness).center(thickness*2)+(c*thickness).center(thickness*6))\n",
    "#Middle Belt\n",
    "for i in range((thickness+1)//2):\n",
    "    print((c*thickness*5).center(thickness*6))\n",
    "#Bottom Pillars\n",
    "for i in range(thickness+1):\n",
    "    print((c*thickness).center(thickness*2)+(c*thickness).center(thickness*6)) \n",
    "#Bottom Cone    \n",
    "for i in range(thickness):\n",
    "    print(((c*(thickness-i-1)).rjust(thickness)+c+(c*(thickness-i-1)).ljust(thickness)).rjust(thickness*6))"
   ]
  },
  {
   "cell_type": "markdown",
   "metadata": {},
   "source": [
    "## Text Wrap"
   ]
  },
  {
   "cell_type": "code",
   "execution_count": null,
   "metadata": {},
   "outputs": [],
   "source": [
    "import textwrap\n",
    "\n",
    "def wrap(string, max_width):\n",
    "    return textwrap.fill(string, max_width)\n",
    "\n",
    "if __name__ == '__main__':\n",
    "    string, max_width = input(), int(input())\n",
    "    result = wrap(string, max_width)\n",
    "    print(result)"
   ]
  },
  {
   "cell_type": "markdown",
   "metadata": {},
   "source": [
    "## Designer Door Mat"
   ]
  },
  {
   "cell_type": "code",
   "execution_count": null,
   "metadata": {},
   "outputs": [],
   "source": [
    "row, col = map(int,input().split()) \n",
    "\n",
    "# Top pattern\n",
    "for i in range((row-1)//2):\n",
    "    print(('.|.'*i).rjust((col//2-1), '-')+'.|.'+('.|.'*i).ljust((col//2-1), '-'))\n",
    "# Central 'WELCOM'    \n",
    "print('WELCOME'.center((col),'-'))\n",
    "# Bottom pattern\n",
    "for i in range((row-1)//2):\n",
    "    print(('.|.'*(row//2-i-1)).rjust((col//2-1), '-')+'.|.'+('.|.'*(row//2-i-1)).ljust((col//2-1), '-'))"
   ]
  },
  {
   "cell_type": "markdown",
   "metadata": {},
   "source": [
    "## String Formatting"
   ]
  },
  {
   "cell_type": "code",
   "execution_count": null,
   "metadata": {},
   "outputs": [],
   "source": [
    "def print_formatted(n):\n",
    "\n",
    "    for i in range(1, n + 1):\n",
    "        print(str(i).rjust(len(bin(n)[2:])), str(oct(i)[2:]).rjust(len(bin(n)[2:])), str(hex(i)[2:]).upper().rjust(len(bin(n)[2:])), str(bin(i)[2:]).rjust(len(bin(n)[2:])))\n",
    "\n",
    "\n",
    "\n",
    "if __name__ == '__main__':\n",
    "    n = int(input())\n",
    "    print_formatted(n)"
   ]
  },
  {
   "cell_type": "markdown",
   "metadata": {},
   "source": [
    "## Introduction to Sets"
   ]
  },
  {
   "cell_type": "code",
   "execution_count": null,
   "metadata": {},
   "outputs": [],
   "source": [
    "def average(array):\n",
    "    heights = list(set(array))     # delete copies\n",
    "    sum = 0   \n",
    "    for i in range(len(heights)):  # average calculation\n",
    "        sum += heights[i]\n",
    "    return (sum/len(heights))\n",
    "\n",
    "if __name__ == '__main__':\n",
    "    n = int(input())\n",
    "    arr = list(map(int, input().split()))\n",
    "    result = average(arr)\n",
    "    print(result)"
   ]
  },
  {
   "cell_type": "markdown",
   "metadata": {},
   "source": [
    "## Symmetric Difference"
   ]
  },
  {
   "cell_type": "code",
   "execution_count": null,
   "metadata": {},
   "outputs": [],
   "source": [
    "M = int(input())\n",
    "set_1 =set(map(int, input().split()))\n",
    "N = int(input())\n",
    "set_2 =set(map(int, input().split()))\n",
    "\n",
    "# make a list with the elements of set_1 and set_2 that are not in the intersection\n",
    "Diff = (set_1.union(set_2)).difference(set_1.intersection(set_2)) \n",
    "\n",
    "new_list = sorted(list(Diff)) # sort the element increasing order\n",
    "list(map(print, new_list))    # print the items one at a time"
   ]
  },
  {
   "cell_type": "markdown",
   "metadata": {},
   "source": [
    "## No Idea!"
   ]
  },
  {
   "cell_type": "code",
   "execution_count": null,
   "metadata": {},
   "outputs": [],
   "source": [
    "N, M = map(int, input().split())\n",
    "Array = list(map(int, input().split()))\n",
    "A = set(map(int, input().split()))\n",
    "B = set(map(int, input().split()))\n",
    "\n",
    "count = 0\n",
    "\n",
    "for i in range(len(Array)): # Counting the score\n",
    "    if Array[i] in A:\n",
    "        count += 1\n",
    "    elif   Array[i] in B:\n",
    "        count -= 1\n",
    "\n",
    "print(count)"
   ]
  },
  {
   "cell_type": "markdown",
   "metadata": {},
   "source": [
    "## Tuples"
   ]
  },
  {
   "cell_type": "code",
   "execution_count": null,
   "metadata": {},
   "outputs": [],
   "source": [
    "n = int(input())\n",
    "integer_list = tuple(map(int, input().split()))\n",
    "print(hash(integer_list))\n"
   ]
  },
  {
   "cell_type": "markdown",
   "metadata": {},
   "source": [
    "## Set .add()\n"
   ]
  },
  {
   "cell_type": "code",
   "execution_count": null,
   "metadata": {},
   "outputs": [],
   "source": [
    "all_country = set([]) #initializing set\n",
    "N = int(input())\n",
    "\n",
    "for i in range(N):            #fill the set with elements\n",
    "    all_country.add(input()) \n",
    "\n",
    "print(len(all_country))       # count the lenght of the set"
   ]
  },
  {
   "cell_type": "markdown",
   "metadata": {},
   "source": [
    "## Set .discard(), .remove() & .pop()"
   ]
  },
  {
   "cell_type": "code",
   "execution_count": null,
   "metadata": {},
   "outputs": [],
   "source": [
    "n = int(input())\n",
    "s = set(map(int, input().split()))\n",
    "N = int(input())\n",
    "\n",
    "for i in range(N):\n",
    "    line = input().split()\n",
    "    if line[0] == 'pop':\n",
    "        s.pop()\n",
    "    elif line[0] == 'remove':\n",
    "        s.remove(int(line[1]))\n",
    "    elif line[0] == 'discard':\n",
    "        s.discard(int(line[1]))\n",
    "\n",
    "sum = 0\n",
    "\n",
    "for i in range(len(s)):\n",
    "    sum += list(s)[i]\n",
    "\n",
    "print(sum)"
   ]
  },
  {
   "cell_type": "markdown",
   "metadata": {},
   "source": [
    "## Set .union() Operation   "
   ]
  },
  {
   "cell_type": "code",
   "execution_count": null,
   "metadata": {},
   "outputs": [],
   "source": [
    "n = int(input())                           \n",
    "newspaper_1 = set(map(int, input().split()))\n",
    "m = int(input())                              \n",
    "newspaper_2 = set(map(int, input().split()))\n",
    "\n",
    "print(len(newspaper_1.union(newspaper_2)))   # union"
   ]
  },
  {
   "cell_type": "markdown",
   "metadata": {},
   "source": [
    "## Set .intersection() Operation"
   ]
  },
  {
   "cell_type": "code",
   "execution_count": null,
   "metadata": {},
   "outputs": [],
   "source": [
    "n = int(input())                           \n",
    "newspaper_1 = set(map(int, input().split()))\n",
    "m = int(input())                              \n",
    "newspaper_2 = set(map(int, input().split()))\n",
    "\n",
    "print(len(newspaper_1.intersection(newspaper_2)))   # intersection"
   ]
  },
  {
   "cell_type": "markdown",
   "metadata": {},
   "source": [
    " ## Set .difference() Operation\n"
   ]
  },
  {
   "cell_type": "code",
   "execution_count": null,
   "metadata": {},
   "outputs": [],
   "source": [
    "n = int(input())                           \n",
    "newspaper_1 = set(map(int, input().split()))\n",
    "m = int(input())                              \n",
    "newspaper_2 = set(map(int, input().split()))\n",
    "\n",
    "print(len(newspaper_1.difference(newspaper_2)))  # difference\n"
   ]
  },
  {
   "cell_type": "markdown",
   "metadata": {},
   "source": [
    " ## Set .symmetric_difference() Operation\n"
   ]
  },
  {
   "cell_type": "code",
   "execution_count": null,
   "metadata": {},
   "outputs": [],
   "source": [
    "n = int(input())                           \n",
    "newspaper_1 = set(map(int, input().split()))\n",
    "m = int(input())                              \n",
    "newspaper_2 = set(map(int, input().split()))\n",
    "\n",
    "print(len(newspaper_1.symmetric_difference(newspaper_2)))  # symmetric difference"
   ]
  },
  {
   "cell_type": "markdown",
   "metadata": {},
   "source": [
    "## Set Mutations"
   ]
  },
  {
   "cell_type": "code",
   "execution_count": null,
   "metadata": {},
   "outputs": [],
   "source": [
    "N = int(input())\n",
    "L = set(map(int, input().split()))\n",
    "m = int(input())\n",
    "\n",
    "for i in range(m):\n",
    "    line = input().split()\n",
    "    if line[0] == 'intersection_update':\n",
    "        l = set(map(int,input().split()))\n",
    "        L.intersection_update(l)\n",
    "    elif line[0] == 'symmetric_difference_update':\n",
    "        l = set(map(int, input().split()))\n",
    "        L.symmetric_difference_update(l)\n",
    "    elif line[0] == 'difference_update':\n",
    "        l = set(map(int, input().split()))\n",
    "        L.difference_update(l)\n",
    "    elif line[0] == 'update':\n",
    "        l = set(map(int, input().split()))\n",
    "        L.update(l)\n",
    "\n",
    "sum = 0\n",
    "R = list(L)\n",
    "for i in range(len(R):\n",
    "    sum += R[i]\n",
    "\n",
    "print(sum)"
   ]
  },
  {
   "cell_type": "markdown",
   "metadata": {},
   "source": [
    "## Check Subset"
   ]
  },
  {
   "cell_type": "code",
   "execution_count": null,
   "metadata": {},
   "outputs": [],
   "source": [
    "N = int(input())\n",
    "\n",
    "for i in range(N):                     \n",
    "    nA = int(input())\n",
    "    A = set(map(int,input().split()))\n",
    "    nB = int(input())\n",
    "    B = set(map(int,input().split()))\n",
    "\n",
    "    print(A.issubset(B))     "
   ]
  },
  {
   "cell_type": "code",
   "execution_count": null,
   "metadata": {},
   "outputs": [],
   "source": []
  },
  {
   "cell_type": "code",
   "execution_count": null,
   "metadata": {},
   "outputs": [],
   "source": []
  },
  {
   "cell_type": "code",
   "execution_count": null,
   "metadata": {},
   "outputs": [],
   "source": []
  },
  {
   "cell_type": "code",
   "execution_count": null,
   "metadata": {},
   "outputs": [],
   "source": []
  },
  {
   "cell_type": "code",
   "execution_count": null,
   "metadata": {},
   "outputs": [],
   "source": []
  }
 ],
 "metadata": {
  "kernelspec": {
   "display_name": "Python 3",
   "language": "python",
   "name": "python3"
  },
  "language_info": {
   "codemirror_mode": {
    "name": "ipython",
    "version": 3
   },
   "file_extension": ".py",
   "mimetype": "text/x-python",
   "name": "python",
   "nbconvert_exporter": "python",
   "pygments_lexer": "ipython3",
   "version": "3.7.3"
  }
 },
 "nbformat": 4,
 "nbformat_minor": 2
}
